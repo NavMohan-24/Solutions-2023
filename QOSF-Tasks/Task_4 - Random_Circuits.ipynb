{
 "cells": [
  {
   "attachments": {},
   "cell_type": "markdown",
   "metadata": {},
   "source": [
    "# Task - 4"
   ]
  },
  {
   "cell_type": "code",
   "execution_count": 1,
   "metadata": {},
   "outputs": [],
   "source": [
    "import numpy as np\n",
    "\n",
    "from qiskit.circuit import QuantumRegister, ClassicalRegister, QuantumCircuit, CircuitInstruction\n",
    "from qiskit.transpiler.coupling import CouplingMap\n",
    "from qiskit.circuit.library import standard_gates\n",
    "from qiskit.circuit.exceptions import CircuitError"
   ]
  },
  {
   "cell_type": "code",
   "execution_count": 2,
   "metadata": {},
   "outputs": [],
   "source": [
    "# creating dictionary for labelling all gates\n",
    "\n",
    "gates_label = {'id': standard_gates.IGate,'x': standard_gates.XGate,'y': standard_gates.YGate,'z': standard_gates.ZGate,\n",
    "               'h': standard_gates.HGate, 'sx': standard_gates.SXGate,'rz': standard_gates.RZGate,'r': standard_gates.RGate,\n",
    "               'p': standard_gates.PhaseGate,'rx': standard_gates.RXGate,'ry': standard_gates.RYGate,'s': standard_gates.SGate,\n",
    "               'sdg': standard_gates.SdgGate,'sxdg': standard_gates.SXdgGate,'t': standard_gates.TGate,'tdg': standard_gates.TdgGate,\n",
    "               'u': standard_gates.UGate,'u1': standard_gates.U1Gate,'u2': standard_gates.U2Gate,'u3': standard_gates.U3Gate,\n",
    "               'cx': standard_gates.CXGate, 'dcx': standard_gates.DCXGate, 'cp': standard_gates.CPhaseGate,'crx': standard_gates.CRXGate,\n",
    "               'cry' : standard_gates.CRYGate, 'crz': standard_gates.CRZGate, 'csx': standard_gates.CSXGate,'cu': standard_gates.CUGate,\n",
    "               'cu1': standard_gates.CU1Gate, 'cy': standard_gates.CYGate, 'cz' : standard_gates.CZGate, 'rxx': standard_gates.RXXGate,\n",
    "               'ryy': standard_gates.RYYGate, 'rzz': standard_gates.RZZGate, 'rzx' : standard_gates.RZXGate, 'xx-yy': standard_gates.XXMinusYYGate,\n",
    "               'xx+yy': standard_gates.XXPlusYYGate,'ecr': standard_gates.ECRGate, 'cs' : standard_gates.CSGate, 'csdg': standard_gates.CSdgGate,\n",
    "               'swap':standard_gates.SwapGate,'iswap': standard_gates.iSwapGate}"
   ]
  },
  {
   "cell_type": "code",
   "execution_count": 3,
   "metadata": {},
   "outputs": [],
   "source": [
    "# creating default gate set\n",
    "\n",
    "default_gate_set = set(['id', 'u1', 'u2', 'u3', 'x', 'y', 'z', 'h', 's', 'sdg', 't', 'tdg',\n",
    "                'rx', 'ry', 'rz', 'cx'])\n",
    "\n",
    "# creating sets containing labels of one qubit and two qubit operators\n",
    "\n",
    "one_q_ops_label = set(['id', 'u1', 'u2', 'u3', 'x', 'y', 'z', 'h', 's', 'sdg', 't', 'tdg', 'rx', 'ry', 'rz'])\n",
    "two_q_ops_label = set(['cx'])   # only considering cx gates other two qubit gates can change the depth after transpilation, but one can modify to add any two qubit operations that don't require parameters\n",
    "one_param_label = set(['u1', 'rx', 'ry', 'rz']) # only one qubit operations that require single parameter considered but it could be two qubit operation by some modifications in the code \n",
    "two_param_label = set(['u2'])\n",
    "three_param_label = set(['u3'])"
   ]
  },
  {
   "cell_type": "code",
   "execution_count": 4,
   "metadata": {},
   "outputs": [],
   "source": [
    "# function to create random quantum circuit\n",
    "\n",
    "def RQC(num_qubits:int = 1, depth: int = 1, basis_gates :list = default_gate_set, seed :int = np.random.seed(), coupling_map = None):\n",
    "\n",
    "    one_q_ops = [gates_label[name] for name in one_q_ops_label & set(basis_gates)]\n",
    "    two_q_ops = [gates_label[name] for name in two_q_ops_label & set(basis_gates)]\n",
    "    one_param = [gates_label[name] for name in one_param_label & set(basis_gates)]\n",
    "    two_param = [gates_label[name] for name in two_param_label & set(basis_gates)]\n",
    "    three_param = [gates_label[name] for name in three_param_label & set(basis_gates)]\n",
    "\n",
    "    if len(one_q_ops) and len(two_q_ops)== 0:\n",
    "        raise CircuitError(\"No gates are available to build circuit\")\n",
    "    \n",
    "    qreg = QuantumRegister(num_qubits, 'q')\n",
    "    qc = QuantumCircuit(num_qubits)\n",
    "\n",
    "    # setting a default coupling map\n",
    "    if coupling_map == None:\n",
    "        coupling_map = CouplingMap.from_full(num_qubits=num_qubits) # all the qubits are fully connected\n",
    "\n",
    "    rng = np.random.default_rng(seed = seed)\n",
    "\n",
    "    for _ in range(depth):\n",
    "        qubits = coupling_map.physical_qubits\n",
    "        edges = coupling_map.get_edges()\n",
    "        allow_two_q_op = bool(edges)\n",
    "        while qubits:\n",
    "            max_possible_operands = min(len(qubits),2) if allow_two_q_op else 1 # here we consider only upto two qubit gates\n",
    "            num_operands = rng.choice([1, 2], p=[0.5, 0.5]) if max_possible_operands > 1 else 1 # equal probability for single and two qubit gates when maximum_posible_oprerands > 1\n",
    "            if num_operands == 1: \n",
    "                operands,operations = [rng.choice(qubits)], rng.choice(one_q_ops)  \n",
    "            elif num_operands == 2:\n",
    "                operations, operands = rng.choice(two_q_ops), list(rng.choice(edges))\n",
    "\n",
    "            qubits = [q for q in qubits if q not in  operands]\n",
    "            if edges:\n",
    "                edges = [pair for pair in edges if pair[0] not in operands and pair[1] not in operands]\n",
    "\n",
    "            if allow_two_q_op and not edges:\n",
    "                allow_two_q_op = False\n",
    "        \n",
    "            if operations in one_param:\n",
    "                num_angles = 1\n",
    "            elif operations in two_param:\n",
    "                num_angles = 2\n",
    "            elif operations in three_param:\n",
    "                num_angles = 3\n",
    "            else:\n",
    "                num_angles = 0\n",
    "            angles = [rng.uniform(0, 2*np.pi) for _ in range(num_angles)]\n",
    "            op = operations(*angles)    \n",
    "            qc.append(CircuitInstruction(operation=op,qubits=operands))\n",
    "        qc.barrier()\n",
    "\n",
    "    #qc.measure_all() # uncomment it if measurement gate required\n",
    "\n",
    "    return qc\n",
    "        "
   ]
  },
  {
   "cell_type": "code",
   "execution_count": 5,
   "metadata": {},
   "outputs": [
    {
     "data": {
      "text/html": [
       "<pre style=\"word-wrap: normal;white-space: pre;background: #fff0;line-height: 1.1;font-family: &quot;Courier New&quot;,Courier,monospace\">        ┌─────┐     ░    ┌─────┐     ░       ░     ┌───┐            ░ »\n",
       "q_0: ───┤ Tdg ├─────░────┤ Tdg ├─────░───■───░─────┤ X ├────────────░─»\n",
       "     ┌──┴─────┴───┐ ░ ┌──┴─────┴───┐ ░ ┌─┴─┐ ░     └─┬─┘    ┌─────┐ ░ »\n",
       "q_1: ┤ Rz(3.0499) ├─░─┤ Rz(1.7632) ├─░─┤ X ├─░───────┼──────┤ Tdg ├─░─»\n",
       "     └──┬─────┬───┘ ░ ├────────────┤ ░ └───┘ ░       │      └─────┘ ░ »\n",
       "q_2: ───┤ Tdg ├─────░─┤ Rx(2.6269) ├─░───■───░───────■──────────────░─»\n",
       "     ┌──┴─────┴───┐ ░ └───┬───┬────┘ ░ ┌─┴─┐ ░ ┌───────────┐        ░ »\n",
       "q_3: ┤ Rz(1.4199) ├─░─────┤ X ├──────░─┤ X ├─░─┤ Rz(1.388) ├────────░─»\n",
       "     └────────────┘ ░     └───┘      ░ └───┘ ░ └───────────┘        ░ »\n",
       "«        ┌─────┐     ░ ┌────────────┐      ░ \n",
       "«q_0: ───┤ Tdg ├─────░─┤ Rz(2.5916) ├──────░─\n",
       "«        └┬───┬┘     ░ └────────────┘      ░ \n",
       "«q_1: ────┤ X ├──────░─────────────────■───░─\n",
       "«     ┌───┴───┴────┐ ░ ┌────────────┐  │   ░ \n",
       "«q_2: ┤ Rx(5.0207) ├─░─┤ Rz(2.1952) ├──┼───░─\n",
       "«     ├────────────┤ ░ └────────────┘┌─┴─┐ ░ \n",
       "«q_3: ┤ Rx(5.4983) ├─░───────────────┤ X ├─░─\n",
       "«     └────────────┘ ░               └───┘ ░ </pre>"
      ],
      "text/plain": [
       "        ┌─────┐     ░    ┌─────┐     ░       ░     ┌───┐            ░ »\n",
       "q_0: ───┤ Tdg ├─────░────┤ Tdg ├─────░───■───░─────┤ X ├────────────░─»\n",
       "     ┌──┴─────┴───┐ ░ ┌──┴─────┴───┐ ░ ┌─┴─┐ ░     └─┬─┘    ┌─────┐ ░ »\n",
       "q_1: ┤ Rz(3.0499) ├─░─┤ Rz(1.7632) ├─░─┤ X ├─░───────┼──────┤ Tdg ├─░─»\n",
       "     └──┬─────┬───┘ ░ ├────────────┤ ░ └───┘ ░       │      └─────┘ ░ »\n",
       "q_2: ───┤ Tdg ├─────░─┤ Rx(2.6269) ├─░───■───░───────■──────────────░─»\n",
       "     ┌──┴─────┴───┐ ░ └───┬───┬────┘ ░ ┌─┴─┐ ░ ┌───────────┐        ░ »\n",
       "q_3: ┤ Rz(1.4199) ├─░─────┤ X ├──────░─┤ X ├─░─┤ Rz(1.388) ├────────░─»\n",
       "     └────────────┘ ░     └───┘      ░ └───┘ ░ └───────────┘        ░ »\n",
       "«        ┌─────┐     ░ ┌────────────┐      ░ \n",
       "«q_0: ───┤ Tdg ├─────░─┤ Rz(2.5916) ├──────░─\n",
       "«        └┬───┬┘     ░ └────────────┘      ░ \n",
       "«q_1: ────┤ X ├──────░─────────────────■───░─\n",
       "«     ┌───┴───┴────┐ ░ ┌────────────┐  │   ░ \n",
       "«q_2: ┤ Rx(5.0207) ├─░─┤ Rz(2.1952) ├──┼───░─\n",
       "«     ├────────────┤ ░ └────────────┘┌─┴─┐ ░ \n",
       "«q_3: ┤ Rx(5.4983) ├─░───────────────┤ X ├─░─\n",
       "«     └────────────┘ ░               └───┘ ░ "
      ]
     },
     "execution_count": 5,
     "metadata": {},
     "output_type": "execute_result"
    }
   ],
   "source": [
    "circuit = RQC(4,6,['rz','cx','x','tdg','rx'])\n",
    "circuit.draw()"
   ]
  },
  {
   "attachments": {},
   "cell_type": "markdown",
   "metadata": {},
   "source": [
    "## Bonus Problem"
   ]
  },
  {
   "attachments": {},
   "cell_type": "markdown",
   "metadata": {},
   "source": [
    "The Coupling map Given in the bonus section:\n",
    "\n",
    "\n",
    "![Bonus Problem](cmap.png)"
   ]
  },
  {
   "cell_type": "code",
   "execution_count": 6,
   "metadata": {},
   "outputs": [
    {
     "data": {
      "text/html": [
       "<pre style=\"word-wrap: normal;white-space: pre;background: #fff0;line-height: 1.1;font-family: &quot;Courier New&quot;,Courier,monospace\">         ┌─────┐     ░      ┌───┐                    ░    ┌─────┐     ░ »\n",
       "q_0: ────┤ Tdg ├─────░──────┤ X ├────────────────────░────┤ Tdg ├─────░─»\n",
       "         └┬───┬┘     ░      ├───┤                    ░ ┌──┴─────┴───┐ ░ »\n",
       "q_1: ─────┤ X ├──────░──────┤ X ├────────────────────░─┤ Rz(6.1498) ├─░─»\n",
       "          └─┬─┘      ░      └─┬─┘     ┌───────────┐  ░ └───┬───┬────┘ ░ »\n",
       "q_2: ───────■────────░────────┼───────┤ Rz(6.139) ├──░─────┤ X ├──────░─»\n",
       "     ┌─────────────┐ ░        │       ├───────────┴┐ ░     └─┬─┘      ░ »\n",
       "q_3: ┤ Rx(0.42271) ├─░────────┼───────┤ Rx(1.6401) ├─░───────■────────░─»\n",
       "     ├─────────────┤ ░        │       └────────────┘ ░ ┌────────────┐ ░ »\n",
       "q_4: ┤ Rz(0.23177) ├─░────────■──────────────────────░─┤ Rx(4.2163) ├─░─»\n",
       "     └┬────────────┤ ░ ┌─────────────┐               ░ └──┬─────┬───┘ ░ »\n",
       "q_5: ─┤ Rx(5.2537) ├─░─┤ Rz(0.97083) ├───────────────░────┤ Tdg ├─────░─»\n",
       "      └────────────┘ ░ └─────────────┘               ░    └─────┘     ░ »\n",
       "«                    ░ \n",
       "«q_0: ──────■────────░─\n",
       "«         ┌─┴─┐      ░ \n",
       "«q_1: ────┤ X ├──────░─\n",
       "«         ├───┤      ░ \n",
       "«q_2: ────┤ X ├──────░─\n",
       "«         └─┬─┘      ░ \n",
       "«q_3: ──────■────────░─\n",
       "«     ┌────────────┐ ░ \n",
       "«q_4: ┤ Rz(5.0116) ├─░─\n",
       "«     ├───────────┬┘ ░ \n",
       "«q_5: ┤ Rx(2.482) ├──░─\n",
       "«     └───────────┘  ░ </pre>"
      ],
      "text/plain": [
       "         ┌─────┐     ░      ┌───┐                    ░    ┌─────┐     ░ »\n",
       "q_0: ────┤ Tdg ├─────░──────┤ X ├────────────────────░────┤ Tdg ├─────░─»\n",
       "         └┬───┬┘     ░      ├───┤                    ░ ┌──┴─────┴───┐ ░ »\n",
       "q_1: ─────┤ X ├──────░──────┤ X ├────────────────────░─┤ Rz(6.1498) ├─░─»\n",
       "          └─┬─┘      ░      └─┬─┘     ┌───────────┐  ░ └───┬───┬────┘ ░ »\n",
       "q_2: ───────■────────░────────┼───────┤ Rz(6.139) ├──░─────┤ X ├──────░─»\n",
       "     ┌─────────────┐ ░        │       ├───────────┴┐ ░     └─┬─┘      ░ »\n",
       "q_3: ┤ Rx(0.42271) ├─░────────┼───────┤ Rx(1.6401) ├─░───────■────────░─»\n",
       "     ├─────────────┤ ░        │       └────────────┘ ░ ┌────────────┐ ░ »\n",
       "q_4: ┤ Rz(0.23177) ├─░────────■──────────────────────░─┤ Rx(4.2163) ├─░─»\n",
       "     └┬────────────┤ ░ ┌─────────────┐               ░ └──┬─────┬───┘ ░ »\n",
       "q_5: ─┤ Rx(5.2537) ├─░─┤ Rz(0.97083) ├───────────────░────┤ Tdg ├─────░─»\n",
       "      └────────────┘ ░ └─────────────┘               ░    └─────┘     ░ »\n",
       "«                    ░ \n",
       "«q_0: ──────■────────░─\n",
       "«         ┌─┴─┐      ░ \n",
       "«q_1: ────┤ X ├──────░─\n",
       "«         ├───┤      ░ \n",
       "«q_2: ────┤ X ├──────░─\n",
       "«         └─┬─┘      ░ \n",
       "«q_3: ──────■────────░─\n",
       "«     ┌────────────┐ ░ \n",
       "«q_4: ┤ Rz(5.0116) ├─░─\n",
       "«     ├───────────┬┘ ░ \n",
       "«q_5: ┤ Rx(2.482) ├──░─\n",
       "«     └───────────┘  ░ "
      ]
     },
     "execution_count": 6,
     "metadata": {},
     "output_type": "execute_result"
    }
   ],
   "source": [
    "sym_cmap = CouplingMap(couplinglist=[[0,1],[1,0],[1,2],[2,1],[2,3],[3,2],[3,4],[4,3],[4,1],[1,4],[5,4],[4,5]]) \n",
    "circuit = RQC(6,4,['rz','cx','x','tdg','rx'],coupling_map=sym_cmap)\n",
    "circuit.draw()"
   ]
  },
  {
   "cell_type": "code",
   "execution_count": 7,
   "metadata": {},
   "outputs": [
    {
     "data": {
      "text/html": [
       "<pre style=\"word-wrap: normal;white-space: pre;background: #fff0;line-height: 1.1;font-family: &quot;Courier New&quot;,Courier,monospace\">     ┌───┐      ░ ┌───────────┐       ░ ┌───┐ ░ \n",
       "q_0: ┤ X ├──────░─┤ Rx(1.948) ├───────░─┤ X ├─░─\n",
       "     ├───┤      ░ └───────────┘ ┌───┐ ░ └───┘ ░ \n",
       "q_1: ┤ X ├──────░───────────────┤ X ├─░───■───░─\n",
       "     └─┬─┘      ░ ┌────────────┐└─┬─┘ ░ ┌─┴─┐ ░ \n",
       "q_2: ──┼────■───░─┤ Rx(3.0817) ├──┼───░─┤ X ├─░─\n",
       "       │  ┌─┴─┐ ░ └───┬───┬────┘  │   ░ ├───┤ ░ \n",
       "q_3: ──┼──┤ X ├─░─────┤ X ├───────┼───░─┤ X ├─░─\n",
       "       │  └───┘ ░     └───┘       │   ░ ├───┤ ░ \n",
       "q_4: ──■────────░─────────────────■───░─┤ X ├─░─\n",
       "          ┌───┐ ░ ┌────────────┐      ░ └─┬─┘ ░ \n",
       "q_5: ─────┤ X ├─░─┤ Rz(0.4539) ├──────░───■───░─\n",
       "          └───┘ ░ └────────────┘      ░       ░ </pre>"
      ],
      "text/plain": [
       "     ┌───┐      ░ ┌───────────┐       ░ ┌───┐ ░ \n",
       "q_0: ┤ X ├──────░─┤ Rx(1.948) ├───────░─┤ X ├─░─\n",
       "     ├───┤      ░ └───────────┘ ┌───┐ ░ └───┘ ░ \n",
       "q_1: ┤ X ├──────░───────────────┤ X ├─░───■───░─\n",
       "     └─┬─┘      ░ ┌────────────┐└─┬─┘ ░ ┌─┴─┐ ░ \n",
       "q_2: ──┼────■───░─┤ Rx(3.0817) ├──┼───░─┤ X ├─░─\n",
       "       │  ┌─┴─┐ ░ └───┬───┬────┘  │   ░ ├───┤ ░ \n",
       "q_3: ──┼──┤ X ├─░─────┤ X ├───────┼───░─┤ X ├─░─\n",
       "       │  └───┘ ░     └───┘       │   ░ ├───┤ ░ \n",
       "q_4: ──■────────░─────────────────■───░─┤ X ├─░─\n",
       "          ┌───┐ ░ ┌────────────┐      ░ └─┬─┘ ░ \n",
       "q_5: ─────┤ X ├─░─┤ Rz(0.4539) ├──────░───■───░─\n",
       "          └───┘ ░ └────────────┘      ░       ░ "
      ]
     },
     "execution_count": 7,
     "metadata": {},
     "output_type": "execute_result"
    }
   ],
   "source": [
    "# defining coupling map of the problem\n",
    "\n",
    "cmap = CouplingMap(couplinglist=[[0,1],[1,2],[2,3],[3,4],[4,1],[5,4]]) # considering only one way coupling\n",
    "circuit = RQC(6,3,['rz','cx','x','tdg','rx'],coupling_map=cmap)\n",
    "circuit.draw()"
   ]
  },
  {
   "attachments": {},
   "cell_type": "markdown",
   "metadata": {},
   "source": [
    "**Refernces**\n",
    "\n",
    "1. **[Random Quantum Circuit - Qiskit Source Code](https://qiskit.org/documentation/_modules/qiskit/circuit/random/utils.html)**\n",
    "2. **[RAndom Circuit Block Encoded Matrix (RACBEM)](https://github.com/qsppack/RACBEM)**\n",
    "3. **[Coupling Map - Discussion](https://quantumcomputing.stackexchange.com/questions/22023/coupling-maps-in-quantum-computation)**"
   ]
  }
 ],
 "metadata": {
  "kernelspec": {
   "display_name": "qiskit",
   "language": "python",
   "name": "python3"
  },
  "language_info": {
   "codemirror_mode": {
    "name": "ipython",
    "version": 3
   },
   "file_extension": ".py",
   "mimetype": "text/x-python",
   "name": "python",
   "nbconvert_exporter": "python",
   "pygments_lexer": "ipython3",
   "version": "3.10.9"
  },
  "orig_nbformat": 4,
  "vscode": {
   "interpreter": {
    "hash": "d10c994b0481cb000d3d158c1f3baca9082eec43aaf19a09aa0e31e87d4b184f"
   }
  }
 },
 "nbformat": 4,
 "nbformat_minor": 2
}
